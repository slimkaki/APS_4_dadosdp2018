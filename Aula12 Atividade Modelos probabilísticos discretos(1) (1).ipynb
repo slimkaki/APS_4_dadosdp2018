{
 "cells": [
  {
   "cell_type": "markdown",
   "metadata": {},
   "source": [
    " ___\n",
    "# Atividade: Modelos probabilísticos discretos\n",
    "___\n",
    "\n",
    "## Aula 12\n",
    "\n",
    "**Referência de Leitura:**\n",
    "1. Magalhães e Lima (7ª. Edição): Seções 3.2 e 3.3\n",
    "\n",
    "**Hoje:**\n",
    "1.\tDescrever modelos discretos quanto aos resultados teóricos.\n",
    "2.\tExplicar a utilização de modelos probabilísticos no contexto da literatura estatística.\n",
    "3.\tContrastar resultados teóricos e empíricos.\n",
    "4.\tFechamento do conteúdo.\n",
    "\n",
    "**Próxima aula:**\n",
    "1. Leitura prévia necessária: Magalhães e Lima (7ª. Edição): Capítulo 6 - Seção 6.1.\n",
    "\n",
    "___"
   ]
  },
  {
   "cell_type": "code",
   "execution_count": 21,
   "metadata": {},
   "outputs": [],
   "source": [
    "%matplotlib inline\n",
    "import pandas as pd\n",
    "import matplotlib.pyplot as plt\n",
    "import math\n",
    "\n",
    "from scipy import stats #importa apenas as funções de estatísticas da biblioteca SciPy.\n",
    "import itertools #importante para gerar todos os resultados possíveis!!\n"
   ]
  },
  {
   "cell_type": "markdown",
   "metadata": {},
   "source": [
    "___\n",
    "## <font color='blue'>Exercício 1</font>\n",
    "\n",
    "### <font color='red'>**Publicar no github até dia 10/04 INDIVIDUAL **</font>\n",
    "\n",
    "\n",
    "#### Este exercício irá explorar  construção de árvore de probabilidades com eventos e construção da distribuição de probabilidades de uma variável aleatória discreta. Ainda, irá explorar o modelo de distribuição probabilística Binomial\n",
    "\n",
    "Um resistor de 100K Ohms comprado na Santa Efigênia tem probabilidade de falha de 5%, segundo um fabricante ruim.\n",
    "\n",
    "Ainda, por suposição, admita que os resistores falhem de forma independente entre si.\n",
    "\n",
    "Um aluno de engenharia compra um pacote contendo $n$ resistores.\n",
    "\n",
    "1. Assuma $n=3$ e faça os itens a seguir.\n",
    "  1. Monte o espaço amostral que combine todos os resultados possíveis de Falha e não Falha desses $n$ resistores. Ainda, calcule a probabilidade de cada resultado do espaço amostral acontecer.\n",
    "  2. Se $Y$ representa o número de resistores que falham em um pacotinho com $n$ resistores, então construa a distribuição de probabilidades de $Y$.\n",
    "  3. Calcule a média e o desvio padrão de $Y$. Interprete os resultados.\n",
    "  4. Utilizando o modelo probabilístico da distribuição Binomial, encontre a distribuição de probabilidades de cada possível valor de $Y$. Calcule também $E(Y)$ e $Var(Y)$. Compare com as distribuições de probabilidades obtidas nos itens anteriores e discuta porque esses valores são iguais ou diferentes!\n",
    "   \n",
    "2. Assuma $n=7$ e repita os itens A) a D) anteriores. No caso de $n=7$ ou maiores quantidades de resistores em um pacotinho, qual a viabilidade de construir a distribuição de probabilidades do número de resistores com defeitos quando $n$ não é pequeno seguindo os itens de A) a C)?\n",
    " \n",
    "3. Com $n=100$, por exemplo, é extremamente inviável a construção de árvore de probabilidades até mesmo utilizando a poderosa ferramenta Python. \n",
    "  1. No caso assuma $n=100$ e repita o item 1.D) anterior. \n",
    "  2. Ainda, calcule a probabilidade de, em um pacote com 100 resistores, pelo menos a metade deles apresentarem falha?\n",
    "\n",
    "\n",
    "A seguir, um resumo sobre o modelo teórico Binomial!    \n",
    "> \n",
    "\n",
    "> **DISTRIBUIÇÃO BINOMIAL - TEORIA:**\n",
    "\n",
    "> É responsável por modelar uma variável $Y$ definida pelo Número de sucessos em $n$ tentativas, cuja probabilidade de sucesso é dada por $p$. Assim, dizemos que $Y$~$Bin(n,p)$ e lê-se: $Y$ segue uma distribuição binomial com $n$ tentativas e $p$ como probabilidade de sucesso. \n",
    "\n",
    "> A função de probabilidade nesse caso é dada por:\n",
    "$P(Y=y)=\\left(\n",
    "\\begin{array}{c}\n",
    "    n \\\\\n",
    "    y\n",
    "\\end{array}\\right) p^y (1-p)^{(n-y)}$\n",
    "\n",
    "> Para um experimento ter as probabilidade dos números de sucessos modeladas por uma distribuição Binomial, o mesmo precisa ter as seguintes propriedades:\n",
    "* é uma contagem de $n$ repetições (ou tentativas ou ensaios) idênticas;\n",
    "* cada repetição tem apenas 2 resultados possíveis: um é denominado sucesso e o outro, fracasso;\n",
    "* a probabilidade de sucesso para cada ensaio é denominada $p$ e será constante em cada repetição. Então, a probabilidade de fracasso $(1-p)$ também não varia de tentativa para tentativa;\n",
    "* As tentativas são independentes.\n",
    "\n",
    "\n",
    "> **DISTRIBUIÇÃO BINOMIAL - PYTHON:** <sup> [https://en.wikipedia.org/wiki/SciPy]\n",
    "\n",
    "> Algumas funções úteis para desenvolver seu código: <sup> [http://docs.scipy.org/doc/scipy-0.16.1/reference/generated/scipy.stats.binom.html]\n",
    "* $P(Y=y)$: `stats.binom.pmf(y, n, p)`\n",
    "* $P(Y\\leq y)$: `stats.binom.cdf(y, n, p)`\n",
    "* $E(Y)$ e $Var(Y)$: `stats.binom.stats(n, p, moments='mv')`\n",
    "\n"
   ]
  },
  {
   "cell_type": "code",
   "execution_count": 22,
   "metadata": {},
   "outputs": [
    {
     "name": "stdout",
     "output_type": "stream",
     "text": [
      "A probabilidade de ('S', 'S', 'S')  igual a:  0.85737 \n",
      "A probabilidade de ('S', 'S', 'F')  igual a:  0.04512 \n",
      "A probabilidade de ('S', 'F', 'S')  igual a:  0.04512 \n",
      "A probabilidade de ('S', 'F', 'F')  igual a:  0.00238 \n",
      "A probabilidade de ('F', 'S', 'S')  igual a:  0.04512 \n",
      "A probabilidade de ('F', 'S', 'F')  igual a:  0.00238 \n",
      "A probabilidade de ('F', 'F', 'S')  igual a:  0.00238 \n",
      "A probabilidade de ('F', 'F', 'F')  igual a:  0.00013 \n"
     ]
    },
    {
     "data": {
      "text/plain": [
       "'1.00000'"
      ]
     },
     "execution_count": 22,
     "metadata": {},
     "output_type": "execute_result"
    }
   ],
   "source": [
    "#item 1A\n",
    "n=3\n",
    "possib=['S','F']\n",
    "prob={'S': 0.95,'F': 0.05}\n",
    "arranjos=itertools.product(possib, repeat=n)\n",
    "space= list(arranjos)\n",
    "prob_linhas = []\n",
    "for i in space:\n",
    "    p=1\n",
    "    for k in i:\n",
    "        p*=prob[k]\n",
    "    prob_linhas.append(p)\n",
    "    print('A probabilidade de '+str(i)+'  igual a: ',\"%6.5f \"%p)\n",
    "\"%3.5f\"%sum(prob_linhas)"
   ]
  },
  {
   "cell_type": "code",
   "execution_count": 23,
   "metadata": {},
   "outputs": [],
   "source": [
    "#item 1B\n",
    "y_values={}\n",
    "\n",
    "for i in range(len(space)):\n",
    "    y=space[i].count('F')\n",
    "    if y in y_values:\n",
    "        y_values[y]+=prob_linhas[i]\n",
    "    else:\n",
    "        y_values[y]=prob_linhas[i]"
   ]
  },
  {
   "cell_type": "code",
   "execution_count": 24,
   "metadata": {},
   "outputs": [
    {
     "name": "stdout",
     "output_type": "stream",
     "text": [
      "Distribuição de probabilidades da variável aleatória $Y$ - falhas\n",
      "\n",
      "Falhas:  0  Probabilidade 0.85737 \n",
      "Falhas:  1  Probabilidade 0.13537 \n",
      "Falhas:  2  Probabilidade 0.00713 \n",
      "Falhas:  3  Probabilidade 0.00013 \n"
     ]
    }
   ],
   "source": [
    "print(\"Distribuição de probabilidades da variável aleatória $Y$ - falhas\")\n",
    "print('')\n",
    "for y in y_values:\n",
    "    print(\"Falhas: \", y, \" Probabilidade\", \"%6.5f \"%y_values[y])"
   ]
  },
  {
   "cell_type": "code",
   "execution_count": 25,
   "metadata": {},
   "outputs": [
    {
     "name": "stdout",
     "output_type": "stream",
     "text": [
      "Média: 0.15\n"
     ]
    }
   ],
   "source": [
    "#item 1C\n",
    "mean=0\n",
    "for i in y_values:\n",
    "    mean+=float(i)*y_values[i]\n",
    "print('Média: {0}'.format(mean))"
   ]
  },
  {
   "cell_type": "code",
   "execution_count": 26,
   "metadata": {},
   "outputs": [
    {
     "name": "stdout",
     "output_type": "stream",
     "text": [
      "Variancia: 0.1425\n",
      "Desvio Padrão: 0.37749172176353746\n"
     ]
    }
   ],
   "source": [
    "var=0\n",
    "for y in y_values:\n",
    "    var+=((float(y)-mean)**2)*y_values[y]\n",
    "dp=math.sqrt(var)\n",
    "print('Variancia: {0}'.format(var))\n",
    "print('Desvio Padrão: {0}'.format(dp))"
   ]
  },
  {
   "cell_type": "code",
   "execution_count": 27,
   "metadata": {},
   "outputs": [],
   "source": [
    "#item 1D\n",
    "c_values = {}\n",
    "for k in range(len(space)):\n",
    "    c=space[k].count(\"F\")\n",
    "    if c in c_values:\n",
    "        c_values[c]+=prob_linhas[k]\n",
    "    else:\n",
    "        c_values[c]=prob_linhas[k]"
   ]
  },
  {
   "cell_type": "code",
   "execution_count": 28,
   "metadata": {},
   "outputs": [
    {
     "name": "stdout",
     "output_type": "stream",
     "text": [
      "Distribuição de probabilidades da variável aleatória $C$ - comissão\n",
      "\n",
      "Falha:  0  Probabilidade 0.85737 \n",
      "Falha:  1  Probabilidade 0.13537 \n",
      "Falha:  2  Probabilidade 0.00713 \n",
      "Falha:  3  Probabilidade 0.00013 \n"
     ]
    }
   ],
   "source": [
    "print(\"Distribuição de probabilidades da variável aleatória $C$ - comissão\")\n",
    "print('')\n",
    "for c in c_values:\n",
    "    print(\"Falha: \", c, \" Probabilidade\", \"%6.5f \"%c_values[c])"
   ]
  },
  {
   "cell_type": "code",
   "execution_count": 29,
   "metadata": {},
   "outputs": [],
   "source": [
    "#item 2\n",
    "n=7\n",
    "possib7=[\"S\", \"F\"]\n",
    "prob7={\"S\": 0.95, \"F\":0.05}\n",
    "arranjos7=itertools.product(possib7, repeat=n)\n",
    "space7=list(arranjos7)\n",
    "prob_linhas7=[]\n",
    "\n",
    "for i in space7:\n",
    "    p=1\n",
    "    for e in i:\n",
    "        p*=prob7[e]\n",
    "    prob_linhas7.append(p)\n",
    "    #print(\"Probabilidade de \",i,\" é igual a \",\"%3.5f\"%p) #print para checar a arvore de possibilidades"
   ]
  },
  {
   "cell_type": "code",
   "execution_count": 30,
   "metadata": {},
   "outputs": [
    {
     "name": "stdout",
     "output_type": "stream",
     "text": [
      "Distribuição de probabilidades da variável aleatória $Y$ - falhas\n",
      "\n",
      "Falhas:  0  Probabilidade 0.69834 \n",
      "Falhas:  1  Probabilidade 0.25728 \n",
      "Falhas:  2  Probabilidade 0.04062 \n",
      "Falhas:  3  Probabilidade 0.00356 \n",
      "Falhas:  4  Probabilidade 0.00019 \n",
      "Falhas:  5  Probabilidade 0.00001 \n",
      "Falhas:  6  Probabilidade 0.00000 \n",
      "Falhas:  7  Probabilidade 0.00000 \n"
     ]
    }
   ],
   "source": [
    "\"%3.5f\"%sum(prob_linhas7)\n",
    "y_values7={}\n",
    "for i in range(len(space7)):\n",
    "    y=space7[i].count(\"F\")\n",
    "    if y in y_values7:\n",
    "        y_values7[y]+=prob_linhas7[i]\n",
    "    else:\n",
    "        y_values7[y]=prob_linhas7[i]\n",
    "        \n",
    "print(\"Distribuição de probabilidades da variável aleatória $Y$ - falhas\")\n",
    "print('')\n",
    "for y in y_values7:\n",
    "    print(\"Falhas: \", y, \" Probabilidade\", \"%6.5f \"%y_values7[y])"
   ]
  },
  {
   "cell_type": "code",
   "execution_count": 31,
   "metadata": {},
   "outputs": [
    {
     "name": "stdout",
     "output_type": "stream",
     "text": [
      "Média: 0.35\n"
     ]
    }
   ],
   "source": [
    "media=0\n",
    "for i in y_values7:\n",
    "    media+=float(i)*y_values7[i]\n",
    "print('Média: {0}'.format(media))"
   ]
  },
  {
   "cell_type": "code",
   "execution_count": 32,
   "metadata": {},
   "outputs": [
    {
     "name": "stdout",
     "output_type": "stream",
     "text": [
      "Variância: 0.33250000\n",
      "Desvio Padrão: 0.57662813\n"
     ]
    }
   ],
   "source": [
    "var7=0\n",
    "for y in y_values7:\n",
    "    var7+=((float(y)-media)**2)*y_values7[y]\n",
    "dp7=math.sqrt(var7)\n",
    "print('Variância: {0:.8f}'.format(var7))\n",
    "print('Desvio Padrão: {0:.8f}'.format(dp7))"
   ]
  },
  {
   "cell_type": "code",
   "execution_count": 33,
   "metadata": {},
   "outputs": [],
   "source": [
    "c_values7={}\n",
    "for k in range(len(space7)):\n",
    "    c=space7[k].count(\"F\")\n",
    "    if c in c_values7:\n",
    "        c_values7[c]+=prob_linhas7[k]\n",
    "    else:\n",
    "        c_values7[c]=prob_linhas7[k]"
   ]
  },
  {
   "cell_type": "code",
   "execution_count": 34,
   "metadata": {
    "scrolled": true
   },
   "outputs": [
    {
     "name": "stdout",
     "output_type": "stream",
     "text": [
      "Distribuição de probabilidades da variável aleatória $C$ - comissão\n",
      "\n",
      "Falha:  0  Probabilidade 0.69834 \n",
      "Falha:  1  Probabilidade 0.25728 \n",
      "Falha:  2  Probabilidade 0.04062 \n",
      "Falha:  3  Probabilidade 0.00356 \n",
      "Falha:  4  Probabilidade 0.00019 \n",
      "Falha:  5  Probabilidade 0.00001 \n",
      "Falha:  6  Probabilidade 0.00000 \n",
      "Falha:  7  Probabilidade 0.00000 \n"
     ]
    }
   ],
   "source": [
    "print(\"Distribuição de probabilidades da variável aleatória $C$ - comissão\")\n",
    "print('')\n",
    "for c in c_values7:\n",
    "    print(\"Falha: \", c, \" Probabilidade\", \"%6.5f \"%c_values7[c])"
   ]
  },
  {
   "cell_type": "code",
   "execution_count": 53,
   "metadata": {},
   "outputs": [
    {
     "data": {
      "text/plain": [
       "0.5640186993142893"
      ]
     },
     "execution_count": 53,
     "metadata": {},
     "output_type": "execute_result"
    }
   ],
   "source": [
    "#item 3\n",
    "stats.binom.pmf(k=100, p=0.95, n=100)\n",
    "stats.binom.cdf(k=95,n=100, p=0.95)\n"
   ]
  },
  {
   "cell_type": "code",
   "execution_count": 55,
   "metadata": {},
   "outputs": [
    {
     "ename": "SyntaxError",
     "evalue": "invalid syntax (<ipython-input-55-41ffc78c67af>, line 3)",
     "output_type": "error",
     "traceback": [
      "\u001b[1;36m  File \u001b[1;32m\"<ipython-input-55-41ffc78c67af>\"\u001b[1;36m, line \u001b[1;32m3\u001b[0m\n\u001b[1;33m    ax.plot(x, binom.pmf(x, n, p), 'bo', ms=8, label='binom pmf')\u001b[0m\n\u001b[1;37m     ^\u001b[0m\n\u001b[1;31mSyntaxError\u001b[0m\u001b[1;31m:\u001b[0m invalid syntax\n"
     ]
    }
   ],
   "source": [
    "fig, ax = subplot(1,1)\n",
    "x=np.arange(binom.ppf(0.01, 100, 0.95),binom.ppf(0.99, 100, 0.95)\n",
    "ax.plot(x, binom.pmf(x, n, p), 'bo', ms=8, label='binom pmf')"
   ]
  },
  {
   "cell_type": "markdown",
   "metadata": {
    "collapsed": true
   },
   "source": [
    "___\n",
    "## <font color='blue'>Exercício 2</font>\n",
    "\n",
    "Esse exercício irá explorar modelos de distribuição de Poisson.\n",
    "\n",
    "Uma fábrica produz determinado veículo. O gerente de vendas fechou um negócio que implica na produção de pelo menos 110 unidades nos próximos dois meses. Para isso, será construída uma nova linha de montagem com capacidade para produzir em média 50 veículos por mês (considere meses de 30 dias). A linha funcionará ininterruptamente. Além disso, apenas um veículo é produzido por vez. Considere que um modelo Poisson seja adequado para a quantidade de veículos produzidos.\n",
    "   1. Qual a probabilidade  da produção ser igual a 100 veículos nos próximos dois meses?\n",
    "   2. Qual a probabilidade  da produção ser de pelo menos 100 veículos nos próximos dois meses?\n",
    "   3. Qual a probabilidade da produção ser entre 100 e 110 veículos nos próximos dois meses?\n",
    "   4. Se forem produzidos de pelo menos 100 veículos no próximo mês, qual a probabilidade do gerente cumprir a meta negociada?\n",
    "   5. Caso o prazo seja cumprido, o lucro será da ordem de $250$ mil, caso não seja, o lucro cai para $200$ mil. Qual é o lucro esperado e seu desvio-padrão?\n",
    "\n",
    "**Observação:** Explore os comandos de `stats.poisson`. <sup>[http://docs.scipy.org/doc/scipy/reference/generated/scipy.stats.poisson.html]\n"
   ]
  },
  {
   "cell_type": "code",
   "execution_count": null,
   "metadata": {},
   "outputs": [],
   "source": []
  },
  {
   "cell_type": "code",
   "execution_count": null,
   "metadata": {},
   "outputs": [],
   "source": []
  }
 ],
 "metadata": {
  "anaconda-cloud": {},
  "kernelspec": {
   "display_name": "Python 3",
   "language": "python",
   "name": "python3"
  },
  "language_info": {
   "codemirror_mode": {
    "name": "ipython",
    "version": 3
   },
   "file_extension": ".py",
   "mimetype": "text/x-python",
   "name": "python",
   "nbconvert_exporter": "python",
   "pygments_lexer": "ipython3",
   "version": "3.6.4"
  }
 },
 "nbformat": 4,
 "nbformat_minor": 1
}
